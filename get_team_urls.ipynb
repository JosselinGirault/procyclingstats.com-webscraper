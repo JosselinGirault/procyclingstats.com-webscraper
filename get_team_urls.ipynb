{
 "cells": [
  {
   "cell_type": "code",
   "execution_count": 1,
   "metadata": {},
   "outputs": [],
   "source": [
    "# coding: utf8\n",
    "\n",
    "import requests\n",
    "from bs4 import BeautifulSoup\n",
    "import pandas as pd\n",
    "import time\n",
    "import random\n",
    "import os\n",
    "import re\n",
    "import sys"
   ]
  },
  {
   "cell_type": "code",
   "execution_count": 2,
   "metadata": {},
   "outputs": [],
   "source": [
    "# ### Variables\n",
    "\n",
    "user_agent = {'User-agent': 'Mozilla/5.0'}\n",
    "\n",
    "# ### Useful functions\n",
    "\n",
    "# Base function to return HTML from an URL using BeautifulSoup\n",
    "def download_soup(url):\n",
    "    print('Starting request for: ' + url)\n",
    "    response = requests.get(url, headers=user_agent)\n",
    "    if response.status_code == 200:\n",
    "        page = response.text\n",
    "        soup = BeautifulSoup(page, 'lxml')\n",
    "        print('Successful request!')\n",
    "        return soup\n",
    "    else:\n",
    "        print('Unsuccessful request, status code: '+ response.status_code)"
   ]
  },
  {
   "cell_type": "code",
   "execution_count": 3,
   "metadata": {},
   "outputs": [],
   "source": [
    "def get_team_urls(year):\n",
    "    newdir = 'data/team_urls' \n",
    "    if not os.path.exists(newdir):\n",
    "        os.makedirs(newdir)\n",
    "    \n",
    "    print(\"Starting get_team_urls, year {}\".format(year))\n",
    "    url_str = \"https://www.procyclingstats.com/teams.php?s=worldtour&year=\" + str(year)\n",
    "    startlist = download_soup(url_str).find_all('a', href = re.compile('team/'))\n",
    "    urls = [x['href'] for x in startlist]\n",
    "    list_team_urls = [\"https://www.procyclingstats.com/\" + u for u in urls if u[-4:] == str(year) ]\n",
    "    \n",
    "    df_teams = pd.DataFrame()\n",
    "    df_teams[\"team_url\"] = list_team_urls\n",
    "    df_teams = df_teams.drop_duplicates(\"team_url\")\n",
    "    ouputfile_str = newdir + \"/team_urls_\" + str(year) + \".csv\"\n",
    "    df_teams.to_csv(ouputfile_str)\n",
    "        \n",
    "    print(\"Finished get_team_urls, year {}\".format(year))"
   ]
  },
  {
   "cell_type": "code",
   "execution_count": 4,
   "metadata": {},
   "outputs": [
    {
     "name": "stdout",
     "output_type": "stream",
     "text": [
      "Starting get_team_urls, year 2012\n",
      "Starting request for: https://www.procyclingstats.com/teams.php?s=worldtour&year=2012\n",
      "Successful request!\n",
      "Finished get_team_urls, year 2012\n",
      "Starting get_team_urls, year 2013\n",
      "Starting request for: https://www.procyclingstats.com/teams.php?s=worldtour&year=2013\n",
      "Successful request!\n",
      "Finished get_team_urls, year 2013\n",
      "Starting get_team_urls, year 2014\n",
      "Starting request for: https://www.procyclingstats.com/teams.php?s=worldtour&year=2014\n",
      "Successful request!\n",
      "Finished get_team_urls, year 2014\n",
      "Starting get_team_urls, year 2015\n",
      "Starting request for: https://www.procyclingstats.com/teams.php?s=worldtour&year=2015\n",
      "Successful request!\n",
      "Finished get_team_urls, year 2015\n",
      "Starting get_team_urls, year 2016\n",
      "Starting request for: https://www.procyclingstats.com/teams.php?s=worldtour&year=2016\n",
      "Successful request!\n",
      "Finished get_team_urls, year 2016\n",
      "Starting get_team_urls, year 2017\n",
      "Starting request for: https://www.procyclingstats.com/teams.php?s=worldtour&year=2017\n",
      "Successful request!\n",
      "Finished get_team_urls, year 2017\n",
      "Starting get_team_urls, year 2018\n",
      "Starting request for: https://www.procyclingstats.com/teams.php?s=worldtour&year=2018\n",
      "Successful request!\n",
      "Finished get_team_urls, year 2018\n",
      "Starting get_team_urls, year 2019\n",
      "Starting request for: https://www.procyclingstats.com/teams.php?s=worldtour&year=2019\n",
      "Successful request!\n",
      "Finished get_team_urls, year 2019\n"
     ]
    }
   ],
   "source": [
    "for i in range(2012, 2020):\n",
    "    get_team_urls(i)"
   ]
  }
 ],
 "metadata": {
  "kernelspec": {
   "display_name": "Python 3",
   "language": "python",
   "name": "python3"
  },
  "language_info": {
   "codemirror_mode": {
    "name": "ipython",
    "version": 3
   },
   "file_extension": ".py",
   "mimetype": "text/x-python",
   "name": "python",
   "nbconvert_exporter": "python",
   "pygments_lexer": "ipython3",
   "version": "3.7.3"
  }
 },
 "nbformat": 4,
 "nbformat_minor": 2
}
