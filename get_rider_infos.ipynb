{
 "cells": [
  {
   "cell_type": "code",
   "execution_count": 31,
   "metadata": {},
   "outputs": [],
   "source": [
    "# coding: utf8\n",
    "\n",
    "import requests\n",
    "from bs4 import BeautifulSoup\n",
    "import pandas as pd\n",
    "import time\n",
    "import random\n",
    "import os\n",
    "import re\n",
    "import sys\n",
    "from IPython.display import clear_output"
   ]
  },
  {
   "cell_type": "code",
   "execution_count": 32,
   "metadata": {},
   "outputs": [],
   "source": [
    "# ### Variables\n",
    "\n",
    "user_agent = {'User-agent': 'Mozilla/5.0'}\n",
    "\n",
    "# ### Useful functions\n",
    "\n",
    "# Base function to return HTML from an URL using BeautifulSoup\n",
    "def download_soup(url):\n",
    "    print('Starting request for: ' + url)\n",
    "    response = requests.get(url, headers=user_agent)\n",
    "    if response.status_code == 200:\n",
    "        page = response.text\n",
    "        soup = BeautifulSoup(page, 'lxml')\n",
    "        print('Successful request!')\n",
    "        return soup\n",
    "    else:\n",
    "        print('Unsuccessful request, status code: '+ response.status_code)"
   ]
  },
  {
   "cell_type": "code",
   "execution_count": 36,
   "metadata": {},
   "outputs": [],
   "source": [
    "# ###Get rider info\n",
    "# Parse throught a rider's html page to get:\n",
    "# name, team, day of birth, country, height, weight\n",
    "# and return it as a list\n",
    "\n",
    "def get_uniquerider_infos(rider_url):\n",
    "    print('Starting get_uniquerider_infos('+rider_url+')')\n",
    "\n",
    "    rider_soup = download_soup(\"https://www.procyclingstats.com/rider/\" + rider_url)\n",
    "    rider_infos = pd.Series()\n",
    "    \n",
    "#     try:\n",
    "#         fullname = rider_soup.find('title').text.encode('latin-1', 'ignore').decode('utf-8', 'ignore')\n",
    "#     except(UnicodeEncodeError):\n",
    "#         fullname = rider_soup.find('title').text\n",
    "    rider_infos[\"fullname\"] = rider_soup.find('title').text\n",
    "    \n",
    "#     try:\n",
    "#         team = rider_soup.find('span', class_='red').text.encode('latin-1', 'ignore').decode('utf-8', 'ignore')\n",
    "#     except(UnicodeEncodeError):\n",
    "#         team = rider_soup.find('span', class_='red').text\n",
    "    try:\n",
    "        team = rider_soup.find('span', class_='red').text\n",
    "    except:\n",
    "        team = 'noteam'\n",
    "    rider_infos[\"team\"] = team    \n",
    "        \n",
    "    inter_soup = rider_soup.find('div', {\"class\":\"rdr-info-cont\"})\n",
    "    list_birthdate = inter_soup.contents[1:4]\n",
    "    try:\n",
    "        birthdate_tmp = pd.datetime.strptime(list_birthdate[0] + list_birthdate[2][:-5], \" %d %B %Y\").date()\n",
    "    except(TypeError):\n",
    "        print(list_birthdate)\n",
    "        birthdate_tmp = list_birthdate\n",
    "    except:\n",
    "        birthdate_tmp = pd.datetime.strptime(list_birthdate[0] + list_birthdate[2], \" %d %B %Y\").date()\n",
    "    rider_infos[\"birthdate\"] = birthdate_tmp\n",
    "    #birthdate = int(birthdate_tmp.year*10000 + birthdate_tmp.month*100 + birthdate_tmp.day)\n",
    "    \n",
    "    try:\n",
    "        country = inter_soup.find('a', class_='black').text.encode('latin-1', 'ignore').decode('utf-8', 'ignore')\n",
    "    except(UnicodeEncodeError):\n",
    "        country = inter_soup.find('a', class_='black').text\n",
    "    rider_infos[\"country\"] = country\n",
    "    \n",
    "    try:\n",
    "        height = float(inter_soup.find(text='Height:').next.split()[0])\n",
    "    except:\n",
    "        height = 0\n",
    "    rider_infos[\"height\"] = height    \n",
    "        \n",
    "    try:\n",
    "        weight = float(inter_soup.find(text='Weight:').next.split()[0])\n",
    "    except:\n",
    "        weight = 0\n",
    "    rider_infos[\"weight\"] = weight\n",
    "    \n",
    "    rider_infos[\"rider_url\"] = rider_url\n",
    "    \n",
    "    print('Finished get_uniquerider_inf('+rider_url+')')\n",
    "    return rider_infos"
   ]
  },
  {
   "cell_type": "code",
   "execution_count": 37,
   "metadata": {},
   "outputs": [],
   "source": [
    "def get_allriders_info():\n",
    "    print('Starting get_allriders_info')\n",
    "    \n",
    "    df_rider_urls = pd.read_csv(\"data/rider_urls.csv\")\n",
    "    n_riders = len(df_rider_urls)\n",
    "    df_rider_infos = pd.DataFrame(columns=[\"fullname\", \"team\", \"birthdate\", \"country\", \"height\", \"weight\", \"rider_url\"])\n",
    "    \n",
    "    for idx, row in df_rider_urls.iterrows():\n",
    "        if idx < 0:\n",
    "            pass\n",
    "        else:\n",
    "            # timer to not make too many requests too fast\n",
    "            timer = 0.5 + 0.5 * random.random()\n",
    "            time.sleep(timer)\n",
    "            clear_output(wait=True)\n",
    "            add = get_uniquerider_infos(row[\"rider_url\"])\n",
    "            print(\"Rider n° : \" + str(idx) + \" / \" + str(n_riders), flush=True)\n",
    "            df_rider_infos = df_rider_infos.append(add, ignore_index=True)   \n",
    "            if idx % 100 == 0:\n",
    "                df_rider_infos.to_csv(\"data/rider_infos.csv\")\n",
    "    \n",
    "    df_rider_infos.to_csv(\"data/rider_infos.csv\")\n",
    "    \n",
    "    return df_rider_infos"
   ]
  },
  {
   "cell_type": "code",
   "execution_count": 38,
   "metadata": {},
   "outputs": [
    {
     "name": "stdout",
     "output_type": "stream",
     "text": [
      "Starting get_uniquerider_infos(loic-vliegen)\n",
      "Starting request for: https://www.procyclingstats.com/rider/loic-vliegen\n",
      "Successful request!\n",
      "Finished get_uniquerider_inf(loic-vliegen)\n",
      "Rider n° : 7966 / 7967\n"
     ]
    }
   ],
   "source": [
    "# get_uniquerider_infos(\"https://www.procyclingstats.com/rider/jan-andrej-cully\")\n",
    "output = get_allriders_info()"
   ]
  }
 ],
 "metadata": {
  "kernelspec": {
   "display_name": "Python 3",
   "language": "python",
   "name": "python3"
  },
  "language_info": {
   "codemirror_mode": {
    "name": "ipython",
    "version": 3
   },
   "file_extension": ".py",
   "mimetype": "text/x-python",
   "name": "python",
   "nbconvert_exporter": "python",
   "pygments_lexer": "ipython3",
   "version": "3.7.3"
  }
 },
 "nbformat": 4,
 "nbformat_minor": 2
}
